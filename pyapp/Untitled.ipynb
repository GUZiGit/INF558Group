{
 "cells": [
  {
   "cell_type": "code",
   "execution_count": 1,
   "metadata": {},
   "outputs": [
    {
     "name": "stderr",
     "output_type": "stream",
     "text": [
      "F:\\installation\\python36\\lib\\site-packages\\requests\\__init__.py:80: RequestsDependencyWarning: urllib3 (1.22) or chardet (2.3.0) doesn't match a supported version!\n",
      "  RequestsDependencyWarning)\n"
     ]
    }
   ],
   "source": [
    "import requests\n",
    "import json\n",
    "import elasticsearch\n",
    "import elasticsearch_dsl\n",
    "\n",
    "es = elasticsearch.Elasticsearch([{'host': 'localhost', 'port': 9200}])\n",
    "\n",
    "\n",
    "# outcome = es.search(index='usc',size=100, body={\n",
    "#   'query': {\n",
    "#       'bool':{\n",
    "#           'must':[\n",
    "#               {'match':{'@type':'ckb:Course'}},\n",
    "#               {'match':{'ckb:CourseAbbre':'SOWK '}}\n",
    "#           ]\n",
    "#       }\n",
    "#   }\n",
    "# })\n",
    "\n",
    "# outcome['hits']['hits']"
   ]
  },
  {
   "cell_type": "code",
   "execution_count": 15,
   "metadata": {},
   "outputs": [],
   "source": [
    "from tkinter import Tk, Label, Listbox, StringVar,Entry, Button,NW"
   ]
  },
  {
   "cell_type": "code",
   "execution_count": 16,
   "metadata": {},
   "outputs": [],
   "source": [
    "root = Tk()\n",
    "root.geometry('500x300')\n",
    "\n",
    "baseLabel = Label(root,text='Search by ')\n",
    "baseLabel.place(x=0,y=3,anchor=NW)\n",
    "\n",
    "searchType = Listbox(root,selectmod='BROWSE')\n",
    "searchType.insert(0,'University','Program','Course','Section','Instructor')\n",
    "searchType.select_set(0)\n",
    "searchType.place(x=80,y=3,anchor=NW)\n",
    "\n",
    "outcome = StringVar()\n",
    "outcome.set('')\n",
    "\n",
    "outcomeLabel = Label(root,textvariable=outcome)\n",
    "outcomeLabel.place(x=450,y=3,anchor=NW)"
   ]
  },
  {
   "cell_type": "code",
   "execution_count": null,
   "metadata": {},
   "outputs": [],
   "source": []
  },
  {
   "cell_type": "code",
   "execution_count": null,
   "metadata": {},
   "outputs": [],
   "source": []
  },
  {
   "cell_type": "code",
   "execution_count": 17,
   "metadata": {},
   "outputs": [],
   "source": [
    "en = Entry(root)\n",
    "en.place(x=230,y=3,anchor=NW)"
   ]
  },
  {
   "cell_type": "code",
   "execution_count": 18,
   "metadata": {},
   "outputs": [],
   "source": [
    "def pressSubmit():\n",
    "#     outcome.set( en.get()+'\\n')\n",
    "#     print(searchType.curselection())\n",
    "    print(en.get())\n",
    "    print(searchType.get(searchType.curselection()))\n",
    "    \n",
    "    try:\n",
    "        t = searchType.get(searchType.curselection())\n",
    "        t = en.get()\n",
    "    except:\n",
    "        return\n",
    "    searchField = searchType.get(searchType.curselection())\n",
    "    searchKeyword = en.get()\n",
    "    \n",
    "    basicBody = {\n",
    "      'query': {\n",
    "          'bool':{\n",
    "              'must':[\n",
    "                  {'match':{}},\n",
    "                  {'match':{}}\n",
    "              ]\n",
    "          }\n",
    "      }\n",
    "    }\n",
    "    \n",
    "    if searchField=='Program':\n",
    "        basicBody['query']['bool']['must'][0]['match']['@type'] = 'ckb:Course'\n",
    "        basicBody['query']['bool']['must'][1]['match']['ckb:ProgramName'] = searchKeyword\n",
    "        \n",
    "    elif  searchField=='Course':\n",
    "        basicBody['query']['bool']['must'][0]['match']['@type'] = 'ckb:Course'\n",
    "        basicBody['query']['bool']['must'][1]['match']['ckb:CourseName'] = searchKeyword\n",
    "    elif  searchField=='Section':\n",
    "        basicBody['query']['bool']['must'][0]['match']['@type'] = 'ckb:Section'\n",
    "        basicBody['query']['bool']['must'][1]['match']['ckb:sectionID'] = searchKeyword\n",
    "    elif  searchField =='Instructor':\n",
    "        basicBody['query']['bool']['must'][0]['match']['@type'] = 'ckb:Instructor'\n",
    "        basicBody['query']['bool']['must'][1]['match']['ckb:InstructorName'] = searchKeyword\n",
    "    else:\n",
    "        return\n",
    "    \n",
    "    print(basicBody)\n",
    "    searchResult = es.search(index='usc',size=20, body=basicBody)\n",
    "    print(searchResult['hits']['hits'])\n",
    "#     outcome.set(searchResult['hits']['hits'])\n",
    "    localAns = ''\n",
    "    for aSearchResult in searchResult['hits']['hits']:\n",
    "        for k in aSearchResult.keys():\n",
    "            localAns +=str( aSearchResult[k])\n",
    "            localAns += '\\n'\n",
    "    outcome.set(localAns)\n",
    "\n",
    "bu = Button(root,text='submit',command=pressSubmit)\n",
    "bu.place(x=370,y=3,anchor=NW)"
   ]
  },
  {
   "cell_type": "code",
   "execution_count": null,
   "metadata": {},
   "outputs": [
    {
     "name": "stdout",
     "output_type": "stream",
     "text": [
      "Computer\n",
      "Course\n",
      "{'query': {'bool': {'must': [{'match': {'@type': 'ckb:Course'}}, {'match': {'ckb:CourseName': 'Computer'}}]}}}\n",
      "[{'_index': 'usc', '_type': 'json', '_id': 'kF9mQ2oBFM8p5qwoYb-v', '_score': 8.636298, '_source': {'@id': '_:339', '@type': 'ckb:Course', 'ckb:CourseAbbre': 'INF 528', 'ckb:CourseName': ' Computer Forensics ', 'ckb:Description': 'Preservation, identification, extraction and documentation of computer evidence stored on a computer. Data recovery; File System Analysis; Investigative Techniques and Methodologies; Forensic Reports and Presentations.', 'ckb:ProgramName': 'Informatics ', 'ckb:UniversityName': 'USC', 'ckb:sections': ['_:341', '_:342']}}, {'_index': 'usc', '_type': 'json', '_id': '8l9oQ2oBFM8p5qwoucg5', '_score': 5.3886967, '_source': {'@id': '_:3352', '@type': 'ckb:Course', 'ckb:CourseAbbre': 'MATH 512', 'ckb:CourseName': ' Financial Informatics and Simulation (Computer Labs and Prac ', 'ckb:Description': 'Experimental laboratory trading for financial markets using double auctions: handling statistical packages for data analysis. Practical training in virtual market environments, using financial trading system software.', 'ckb:ProgramName': 'Mathematics ', 'ckb:UniversityName': 'USC', 'ckb:sections': ['_:3354', '_:3355', '_:3356']}}]\n"
     ]
    }
   ],
   "source": [
    "root.mainloop()"
   ]
  },
  {
   "cell_type": "code",
   "execution_count": null,
   "metadata": {},
   "outputs": [],
   "source": []
  },
  {
   "cell_type": "code",
   "execution_count": null,
   "metadata": {},
   "outputs": [],
   "source": []
  }
 ],
 "metadata": {
  "kernelspec": {
   "display_name": "Python 3",
   "language": "python",
   "name": "python3"
  },
  "language_info": {
   "codemirror_mode": {
    "name": "ipython",
    "version": 3
   },
   "file_extension": ".py",
   "mimetype": "text/x-python",
   "name": "python",
   "nbconvert_exporter": "python",
   "pygments_lexer": "ipython3",
   "version": "3.6.0"
  }
 },
 "nbformat": 4,
 "nbformat_minor": 2
}
