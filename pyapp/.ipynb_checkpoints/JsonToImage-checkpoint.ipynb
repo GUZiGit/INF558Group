{
 "cells": [
  {
   "cell_type": "code",
   "execution_count": 38,
   "metadata": {},
   "outputs": [],
   "source": [
    "import json\n",
    "\n",
    "\n",
    "\n",
    "f = open('test.json')\n",
    "jsonObj = json.load(f)\n",
    "\n",
    "\n"
   ]
  },
  {
   "cell_type": "code",
   "execution_count": 39,
   "metadata": {},
   "outputs": [
    {
     "data": {
      "text/plain": [
       "{'@id': '_:371',\n",
       " '@type': 'ckb:Course',\n",
       " 'ckb:CourseAbbre': 'INF 558',\n",
       " 'ckb:CourseName': ' Building Knowledge Graphs ',\n",
       " 'ckb:Description': 'Foundations, techniques, and algorithms for building knowledge graphs and doing so at scale. Topics include information extraction, data alignment, entity linking, and the Semantic Web.',\n",
       " 'ckb:ProgramName': 'Informatics ',\n",
       " 'ckb:UniversityName': 'USC',\n",
       " 'ckb:sections': '_:373',\n",
       " 'sectionObjects': [{'@id': '_:373',\n",
       "   '@type': 'ckb:Section',\n",
       "   'ckb:Days': 'Tuesday',\n",
       "   'ckb:InstructorID': '_:18064',\n",
       "   'ckb:OfficeHour': '9 TBD',\n",
       "   'ckb:Syllabus': 'PDF',\n",
       "   'ckb:SyllabusLink': 'https://web-app.usc.edu/soc/syllabus/20191/32421.pdf',\n",
       "   'ckb:Time': '3:30-6:50pm',\n",
       "   'ckb:sectionID': '32421D',\n",
       "   'ckb:sessionID': '048',\n",
       "   'ckb:sessionLink': 'https://classes.usc.edu/term-20191/session/048/',\n",
       "   'ckb:sessionType': 'Lecture',\n",
       "   'Instructor': {'@id': '_:18064',\n",
       "    '@type': 'ckb:Instructor',\n",
       "    'ckb:InstructorLink': 'https://www.cs.usc.edu/directory/faculty/profile/?lname=Wu&fname=Wensheng',\n",
       "    'ckb:InstructorName': 'Wensheng Wu'}}]}"
      ]
     },
     "execution_count": 39,
     "metadata": {},
     "output_type": "execute_result"
    }
   ],
   "source": [
    "jsonObj"
   ]
  },
  {
   "cell_type": "code",
   "execution_count": 40,
   "metadata": {},
   "outputs": [],
   "source": [
    "def getName(obj):\n",
    "    if '@type' not in obj.keys():\n",
    "        print(obj)\n",
    "        return '' if '@id' not in obj.keys() else obj['@id']\n",
    "    \n",
    "    if obj['@type']=='ckb:Course':\n",
    "        return obj['ckb:CourseName']\n",
    "    if obj['@type']=='ckb:Section':\n",
    "        return obj['ckb:sectionID']\n",
    "    if obj['@type']=='ckb:Instructor':\n",
    "        return obj['ckb:InstructorName']\n",
    "    "
   ]
  },
  {
   "cell_type": "code",
   "execution_count": 41,
   "metadata": {},
   "outputs": [],
   "source": [
    "def buildLinks(obj,rootName):\n",
    "    linkAns = ''\n",
    "    \n",
    "#     if rootName=='ckb:Description':\n",
    "#         return ''\n",
    "    \n",
    "    if type(obj) is list:\n",
    "        for child in obj:\n",
    "            linkAns += '<'+rootName+'>' +'->'+ '<'+getName(child)+'>' +';\\n'\n",
    "            linkAns += buildLinks(child,getName(child))\n",
    "            \n",
    "    elif type(obj) is dict:\n",
    "        for childKey in obj.keys():\n",
    "            \n",
    "            if childKey in ['ckb:CourseName','ckb:InstructorName','ckb:sectionID']:\n",
    "                continue\n",
    "            \n",
    "            if type(obj[childKey]) is list:\n",
    "                linkAns += '<'+rootName+'>' +'->'+  '<'+childKey+'>' +';\\n'\n",
    "                linkAns += buildLinks(obj[childKey],childKey)\n",
    "            elif type(obj[childKey]) is str and childKey=='ckb:Description':\n",
    "                linkAns += ''\n",
    "            elif type(obj[childKey]) is str:\n",
    "                linkAns += '<'+rootName+'>' +'->'+ '<'+obj[childKey]+'>' +'[label=<'+childKey+'>]'+';\\n'\n",
    "#                 linkAns += '<'+childKey+'>' +'->'+ '<'+obj[childKey]+'>' +';\\n'\n",
    "    else:\n",
    "        print('wrong obj')\n",
    "    \n",
    "    return linkAns"
   ]
  },
  {
   "cell_type": "code",
   "execution_count": 42,
   "metadata": {},
   "outputs": [],
   "source": [
    "f = open('temp.dot','w')\n",
    "f.write('strict digraph tree {  ')\n",
    "f.write(buildLinks(jsonObj,'root'))\n",
    "f.write('}')\n",
    "f.close()"
   ]
  },
  {
   "cell_type": "code",
   "execution_count": null,
   "metadata": {},
   "outputs": [],
   "source": []
  },
  {
   "cell_type": "code",
   "execution_count": null,
   "metadata": {},
   "outputs": [],
   "source": []
  }
 ],
 "metadata": {
  "kernelspec": {
   "display_name": "Python 3",
   "language": "python",
   "name": "python3"
  },
  "language_info": {
   "codemirror_mode": {
    "name": "ipython",
    "version": 3
   },
   "file_extension": ".py",
   "mimetype": "text/x-python",
   "name": "python",
   "nbconvert_exporter": "python",
   "pygments_lexer": "ipython3",
   "version": "3.6.0"
  }
 },
 "nbformat": 4,
 "nbformat_minor": 2
}
